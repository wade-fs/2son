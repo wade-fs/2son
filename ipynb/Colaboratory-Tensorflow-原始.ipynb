{
  "nbformat": 4,
  "nbformat_minor": 0,
  "metadata": {
    "colab": {
      "name": "你好，Colaboratory",
      "version": "0.3.2",
      "provenance": [],
      "collapsed_sections": [],
      "include_colab_link": true
    },
    "kernelspec": {
      "display_name": "Python 3",
      "name": "python3"
    }
  },
  "cells": [
    {
      "cell_type": "markdown",
      "metadata": {
        "id": "view-in-github",
        "colab_type": "text"
      },
      "source": [
        "[View in Colaboratory](https://colab.research.google.com/github/wade-fs/2son/blob/master/Colaboratory-Tensorflow.ipynb)"
      ]
    },
    {
      "metadata": {
        "colab_type": "text",
        "id": "9J7p406abzgl"
      },
      "cell_type": "markdown",
      "source": [
        "<img height=\"60px\" src=\"/img/colab_favicon.ico\" align=\"left\" hspace=\"20px\" vspace=\"5px\">\n",
        "\n",
        "## 欢迎使用 Colaboratory！\n",
        "\n",
        "Colaboratory 是免费的 Jupyter 笔记本环境，不需要进行任何设置就可以使用，并且完全在云端运行。要了解更多信息，请参阅我们的[常见问题解答](https://research.google.com/colaboratory/faq.html)。"
      ]
    },
    {
      "metadata": {
        "colab_type": "text",
        "id": "-Rh3-Vt9Nev9"
      },
      "cell_type": "markdown",
      "source": [
        "## 使用入门\n",
        "- [Colaboratory 概览](/notebooks/basic_features_overview.ipynb)\n",
        "- [加载和保存数据：本地文件、云端硬盘、表格、Google Cloud Storage](/notebooks/io.ipynb)\n",
        "- [导入库和安装依赖项](/notebooks/snippets/importing_libraries.ipynb)\n",
        "- [使用 Google Cloud BigQuery](/notebooks/bigquery.ipynb)\n",
        "- [表单](/notebooks/forms.ipynb)、[图表](/notebooks/charts.ipynb)、[Markdown](/notebooks/markdown_guide.ipynb) 以及[微件](/notebooks/widgets.ipynb)\n",
        "- [支持 GPU 的 TensorFlow](/notebooks/gpu.ipynb)\n",
        "- [机器学习速成课程](https://developers.google.com/machine-learning/crash-course/)：[Pandas 简介](/notebooks/mlcc/intro_to_pandas.ipynb)以及[使用 TensorFlow 的起始步骤](/notebooks/mlcc/first_steps_with_tensor_flow.ipynb)\n"
      ]
    },
    {
      "metadata": {
        "colab_type": "text",
        "id": "1fr51oVCHRZU"
      },
      "cell_type": "markdown",
      "source": [
        "## 重要功能"
      ]
    },
    {
      "metadata": {
        "colab_type": "text",
        "id": "9wi5kfGdhK0R"
      },
      "cell_type": "markdown",
      "source": [
        "### 执行 TensorFlow 代码"
      ]
    },
    {
      "metadata": {
        "colab_type": "text",
        "id": "S9GW-n-oYWIj"
      },
      "cell_type": "markdown",
      "source": [
        "借助 Colaboratory，您只需点击一下鼠标，即可在浏览器中执行 TensorFlow 代码。下面的示例展示了两个矩阵相加的情况。\n",
        "\n",
        "$\\begin{bmatrix}\n",
        "  1. & 1. & 1. \\\\\n",
        "  1. & 1. & 1. \\\\\n",
        "\\end{bmatrix} +\n",
        "\\begin{bmatrix}\n",
        "  1. & 2. & 3. \\\\\n",
        "  4. & 5. & 6. \\\\\n",
        "\\end{bmatrix} =\n",
        "\\begin{bmatrix}\n",
        "  2. & 3. & 4. \\\\\n",
        "  5. & 6. & 7. \\\\\n",
        "\\end{bmatrix}$"
      ]
    },
    {
      "metadata": {
        "colab": {
          "base_uri": "https://localhost:8080/",
          "height": 55
        },
        "colab_type": "code",
        "id": "7UgwxnAA55g3",
        "outputId": "15dc0b9c-fe0e-4307-b5ea-ef65544d7588"
      },
      "cell_type": "code",
      "source": [
        "import tensorflow as tf\n",
        "\n",
        "input1 = tf.ones((2, 3))\n",
        "input2 = tf.reshape(tf.range(1, 7, dtype=tf.float32), (2, 3))\n",
        "output = input1 + input2\n",
        "\n",
        "with tf.Session():\n",
        "  result = output.eval()\n",
        "result  "
      ],
      "execution_count": 1,
      "outputs": [
        {
          "output_type": "execute_result",
          "data": {
            "text/plain": [
              "array([[2., 3., 4.],\n",
              "       [5., 6., 7.]], dtype=float32)"
            ]
          },
          "metadata": {
            "tags": []
          },
          "execution_count": 1
        }
      ]
    },
    {
      "metadata": {
        "colab_type": "text",
        "id": "nwYF0E3Sjiy4"
      },
      "cell_type": "markdown",
      "source": [
        "### GitHub\n",
        "\n",
        "您可以通过依次转到“文件”>“在 GitHub 中保存一份副本…”，保存一个 Colab 笔记本副本\n",
        "\n",
        "只需在 colab.research.google.com/github/ 后面加上路径，即可在 GitHub 上加载任何 .ipynb。例如，[colab.research.google.com/github/tensorflow/models/blob/master/samples/core/get_started/_index.ipynb](https://colab.research.google.com/github/tensorflow/models/blob/master/samples/core/get_started/_index.ipynb) 将在 GitHub 上加载[此 .ipynb](https://github.com/tensorflow/models/blob/master/samples/core/get_started/_index.ipynb)。\n",
        "\n"
      ]
    },
    {
      "metadata": {
        "colab_type": "text",
        "id": "yv2XIwi5hQ_g"
      },
      "cell_type": "markdown",
      "source": [
        "### 可视化"
      ]
    },
    {
      "metadata": {
        "colab_type": "text",
        "id": "rYs5mx2JZkmy"
      },
      "cell_type": "markdown",
      "source": [
        "Colaboratory 包含很多已被广泛使用的库（例如 [matplotlib](https://matplotlib.org/)），因而能够简化数据的可视化过程。"
      ]
    },
    {
      "metadata": {
        "colab": {
          "base_uri": "https://localhost:8080/",
          "height": 347
        },
        "colab_type": "code",
        "id": "PTHnDj4y57ln",
        "outputId": "c418742e-bda5-4e9f-b10e-b4f745fa2e0a"
      },
      "cell_type": "code",
      "source": [
        "import matplotlib.pyplot as plt\n",
        "import numpy as np\n",
        "\n",
        "x = np.arange(20)\n",
        "y = [x_i + np.random.randn(1) for x_i in x]\n",
        "a, b = np.polyfit(x, y, 1)\n",
        "_ = plt.plot(x, y, 'o', np.arange(20), a*np.arange(20)+b, '-')"
      ],
      "execution_count": 2,
      "outputs": [
        {
          "output_type": "display_data",
          "data": {
            "image/png": "[encoded data removed]",
            "text/plain": [
              "<matplotlib.figure.Figure at 0x7fa8cd022fd0>"
            ]
          },
          "metadata": {
            "tags": []
          }
        }
      ]
    },
    {
      "metadata": {
        "colab_type": "text",
        "id": "AN_LRQ9NkOjs"
      },
      "cell_type": "markdown",
      "source": [
        "想使用新的库？请在笔记本的顶部通过 `pip install` 命令安装该库。然后，您就可以在笔记本的任何其他位置使用该库。要了解导入常用库的方法，请参阅[导入库示例笔记本](/notebooks/snippets/importing_libraries.ipynb)。"
      ]
    },
    {
      "metadata": {
        "colab": {
          "base_uri": "https://localhost:8080/",
          "height": 330
        },
        "colab_type": "code",
        "id": "qGBvZs4T58jq",
        "outputId": "79a8ac26-5c4c-46ce-8b7d-1fea41e9b027"
      },
      "cell_type": "code",
      "source": [
        "!pip install -q matplotlib-venn\n",
        "\n",
        "from matplotlib_venn import venn2\n",
        "_ = venn2(subsets = (3, 2, 1))"
      ],
      "execution_count": 3,
      "outputs": [
        {
          "output_type": "display_data",
          "data": {
            "image/png": "[encoded data removed]",
            "text/plain": [
              "<matplotlib.figure.Figure at 0x7fa8d84f05f8>"
            ]
          },
          "metadata": {
            "tags": []
          }
        }
      ]
    },
    {
      "metadata": {
        "colab_type": "text",
        "id": "rTX3heEtu0b2"
      },
      "cell_type": "markdown",
      "source": [
        "### 本地运行时支持\n",
        "\n",
        "Colab 支持连接本地计算机上的 Jupyter 运行时。有关详情，请参阅我们的[文档](https://research.google.com/colaboratory/local-runtimes.html)。"
      ]
    },
    {
      "metadata": {
        "id": "NK7vU5csXbQR",
        "colab_type": "code",
        "colab": {
          "base_uri": "https://localhost:8080/",
          "height": 36
        },
        "outputId": "93dd6cc6-684f-49ca-dd59-dd8c56869e25"
      },
      "cell_type": "code",
      "source": [
        "# 參考網址: https://dotblogs.com.tw/shaynling/2017/11/14/173025\n",
        "import tensorflow as tf\n",
        "# constant可以視為tf專用的變數型態\n",
        "# 其他包括Variable，placeholder\n",
        "A = tf.constant('Hello World!')\n",
        "\n",
        "# 使用 with 可以讓Session自動關閉\n",
        "with tf.Session() as sess:\n",
        "\n",
        "    # 在 tensorflow內要使用run，才會讓計算圖開始執行\n",
        "    B = sess.run(A)\n",
        "\n",
        "    print(B)"
      ],
      "execution_count": 4,
      "outputs": [
        {
          "output_type": "stream",
          "text": [
            "b'Hello World!'\n"
          ],
          "name": "stdout"
        }
      ]
    },
    {
      "metadata": {
        "id": "gJVymFxMX51z",
        "colab_type": "code",
        "colab": {
          "base_uri": "https://localhost:8080/",
          "height": 150
        },
        "outputId": "e13cf2a9-7e9b-441c-c87b-b5fa6ec95588"
      },
      "cell_type": "code",
      "source": [
        "# tf.constant\n",
        "# 這代表常數，給定初始值之後即無法再更改。\n",
        "import tensorflow as tf\n",
        "\n",
        "# 宣告常數\n",
        "A = tf.constant(10, dtype=tf.int64)\n",
        "\n",
        "with tf.Session() as sess:\n",
        "    print( A ) # 光印 A 只是 TF 物件，並不會印執行結果(也就是 A 的值是執行的結果，而不是一般 C 語言中的變數)\n",
        "    print( sess.run(A) ) # 所以要先『執行』它\n",
        "\n",
        "# 宣告變數    \n",
        "B = tf.Variable(0, dtype=tf.int64)\n",
        "with tf.Session() as sess:\n",
        "    # 變數需要初始化\n",
        "    sess.run( tf.global_variables_initializer() )\n",
        "\n",
        "    # 使用 assign 更改變數值\n",
        "    for i in range(5):\n",
        "        print( sess.run(B.assign(i)) )"
      ],
      "execution_count": 6,
      "outputs": [
        {
          "output_type": "stream",
          "text": [
            "Tensor(\"Const_2:0\", shape=(), dtype=int64)\n",
            "10\n",
            "0\n",
            "1\n",
            "2\n",
            "3\n",
            "4\n"
          ],
          "name": "stdout"
        }
      ]
    }
  ]
}